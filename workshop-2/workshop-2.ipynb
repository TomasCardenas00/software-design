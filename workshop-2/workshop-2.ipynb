{
  "nbformat": 4,
  "nbformat_minor": 0,
  "metadata": {
    "colab": {
      "provenance": []
    },
    "kernelspec": {
      "name": "python3",
      "display_name": "Python 3"
    },
    "language_info": {
      "name": "python"
    }
  },
  "cells": [
    {
      "cell_type": "code",
      "source": [
        "class Vehicle:\n",
        "  def __init__(self,Engine,year,model):\n",
        "    \"\"\"This method initializes the dfferent variables used in the class Vehicle\"\"\"\n",
        "    self.Engine = engine\n",
        "    self.year = year\n",
        "    self.model = model\n",
        "\n",
        "  def get_speed(self):\n",
        "    \"\"\"This method returns the value max_speed from the class Engine\"\"\"\n",
        "    return self.Engine.get_max_speed()\n",
        "\n",
        "  def get_years(self):\n",
        "    return self.year\n",
        "\n",
        "class Car(Vehicle):\n",
        "  def __init__(self, Engine,year,model, transmission, chasis, trade, combustion, type_):\n",
        "    super().__init__(Engine,year,model)\n",
        "    self.transmission = transmission\n",
        "    self.chasis = chasis\n",
        "    self.trade = trade\n",
        "    self.combustion = combustion\n",
        "    self.type_ = type_\n",
        "\n",
        "class Yacht(Vehcile):\n",
        "  def __init__(self,Engine,year,model,length,weight,trade):\n",
        "      super().__init__(Engine,year,model)\n",
        "      self.length = length\n",
        "      self.weight = weight\n",
        "      self.trade = trade\n",
        "\n",
        "class Truck(Vehicle):\n",
        "  def __init__(self,Engine,year,model,chasis,gas_consumption):\n",
        "      super().__init__(Engine,year,model)\n",
        "      self.chasis = chasis\n",
        "      self.gas_consumption = gas_consumption\n",
        "\n",
        "class Bike(Vehicle):\n",
        "  def __init__(self,Engine,year,model,chasis,gas_consumption):\n",
        "      super().__init__(Engine,year,model)\n",
        "      self.chasis = chasis\n",
        "      self.gas_consumption = gas_consumption\n",
        "\n",
        "  def get_gas_consumption_A(self):\n",
        "\n",
        "\n",
        "class Helicopter(Vehicle):\n",
        "  def __init__(selfEngine,year,model,chasis, weight):\n",
        "    super().__init__(Engine,year,model)\n",
        "    self.chasis = chasis\n",
        "    self.weight = weight\n",
        "\n",
        "class Scooter(Vehicle):\n",
        "  def __init__(selfEngine,year,model,weight,length):\n",
        "    super().__init__(Engine,year,model)\n",
        "    self.weight = weight\n",
        "    self.length = lenght\n"
      ],
      "metadata": {
        "id": "LU8rbkDtQKqh"
      },
      "execution_count": null,
      "outputs": []
    }
  ]
}